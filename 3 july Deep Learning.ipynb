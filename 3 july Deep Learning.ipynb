{
 "cells": [
  {
   "cell_type": "code",
   "execution_count": 1,
   "id": "71b9bb5c-1da0-4013-b21e-db16fb5fdc5b",
   "metadata": {},
   "outputs": [],
   "source": [
    "# Deep Learning ---->\n",
    "\n",
    "# Representative Learning ---->\n",
    "\n",
    "# ML ---> Scikit-Learn , DL ---> Tensorflow ---> Keras\n",
    "\n",
    "# Architecture of ML ---->\n",
    "# Data ---> Data Pre-processing ---> Select a ml model ---> train a ml model ---> prediction ---> accuracy .\n",
    "\n",
    "# Architecture of Deep Learning ---->\n",
    "# Data ----> Data Pre-processing ----> model = Create an Architecture(Sequential):\n",
    "# input_layer(random_neurons , activation_function , input_shape)\n",
    "# Hidden_layer(random_neurons , activation_function)\n",
    "# Output_layer (based_on_target_neurons , activation_function)\n",
    "\n",
    "\n",
    "# Model.compile(optimizer , loss_function , metrics_score)\n",
    "\n",
    "# model.training ----> Model Prediction ---> Model loss , Accuracy .\n",
    "\n",
    "# Brain ----> Neuron system ---> Artificial Neuron system use ---> Model training and Prediction .\n"
   ]
  },
  {
   "cell_type": "code",
   "execution_count": 3,
   "id": "4ced0b4d-7ca8-4ce1-b9b1-d3278580038d",
   "metadata": {},
   "outputs": [],
   "source": [
    "# Types of Deep Learning :\n",
    "# (1). ANN (Artificial Neural Networks) ----> use for Tabular or structured data\n",
    "# (2). CNN (Convolutional Neural Networks) ----> use for Image related data\n",
    "# (3). RNN (Recurrent Neural Networks) ----> Text related data or Sequential data . + LSTM (Long short term memory)"
   ]
  },
  {
   "cell_type": "code",
   "execution_count": 5,
   "id": "cbba30d6-56bc-47b1-968f-1a4c2be7acfd",
   "metadata": {},
   "outputs": [],
   "source": [
    "# What is Loss function ----> Difference between Actual_value and Predicted_value .\n",
    "# MSE , Binary_cross_entroy , sparse_categorical_cross_entropy .\n",
    "\n",
    "# Optimizers ----> this process is using for reduce or minimize the loss function .\n",
    "\n",
    "# Activation_function ----> these are the mathematical function that is used for \n",
    "# convert our data into a non-linear format .\n"
   ]
  }
 ],
 "metadata": {
  "kernelspec": {
   "display_name": "Python 3 (ipykernel)",
   "language": "python",
   "name": "python3"
  },
  "language_info": {
   "codemirror_mode": {
    "name": "ipython",
    "version": 3
   },
   "file_extension": ".py",
   "mimetype": "text/x-python",
   "name": "python",
   "nbconvert_exporter": "python",
   "pygments_lexer": "ipython3",
   "version": "3.12.4"
  }
 },
 "nbformat": 4,
 "nbformat_minor": 5
}
