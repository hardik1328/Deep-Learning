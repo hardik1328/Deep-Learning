{
 "cells": [
  {
   "cell_type": "code",
   "execution_count": null,
   "id": "59d2d2ba-4feb-4bd6-9ca2-78dc87dd8906",
   "metadata": {},
   "outputs": [],
   "source": [
    "# what is gru?\n",
    "# gates current unit\n",
    "#  => gru is a type of rnn it is mainly use for sequential data. it is similar to lstm but it has fewer gates\n",
    "#     as compared to lstm. that makes it simpler and faster in short gru is a smarter version of rnn that solves\n",
    "#     vanishing gradient prblm and learn long term dependencies\n",
    "\n",
    "\n",
    "# why we use gru?\n",
    "#  --> problems with simple rnn it cant remember long term dependencies it suffer from vanishing gradinets lstm solve thi \n",
    "#      using three gate (input , forget , output) , gru simply it only 2 gates(reset , update gate) \n",
    "#      while performing equally well.\n",
    "\n",
    "\n",
    "\n",
    "# architecture of gru => \n",
    "#   ==> instead of  3 gates like lstm , gru has 2 gates:->\n",
    "         # 1) -> update gate z(t) => it decides how much passed info . should  be carried forward it works like a \n",
    "#                                    combination of input + forget gate in lstm. if update gate is equal to 1\n",
    "#                                    then it keep old memory and if update = 0 then then it will replace with new\n",
    "#                                    memory.\n",
    "#          2) reset gate (rt) =>  it decides how much passed info. to forget gate . if reset gate = 0 means forget everything\n",
    "#                                  and if reset gate = 1 then it means keep full memory."
   ]
  }
 ],
 "metadata": {
  "kernelspec": {
   "display_name": "Python 3 (ipykernel)",
   "language": "python",
   "name": "python3"
  },
  "language_info": {
   "codemirror_mode": {
    "name": "ipython",
    "version": 3
   },
   "file_extension": ".py",
   "mimetype": "text/x-python",
   "name": "python",
   "nbconvert_exporter": "python",
   "pygments_lexer": "ipython3",
   "version": "3.12.4"
  }
 },
 "nbformat": 4,
 "nbformat_minor": 5
}
