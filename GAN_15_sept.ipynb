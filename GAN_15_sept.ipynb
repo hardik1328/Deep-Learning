{
 "cells": [
  {
   "cell_type": "code",
   "execution_count": 3,
   "id": "a8dbe50c-7b5d-4380-9966-177e2cd60dfd",
   "metadata": {},
   "outputs": [],
   "source": [
    "# what is gan ?\n",
    "# Generative Adversarial Network\n",
    "# it is a dl model that can generate new data,that looks like a real data.\n",
    "# ex => creating fake images of faces \n",
    "#  generating art,musix,text or video data augmentation in ml or dl agai  has 2 neural network that play a game against each \n",
    "#    other.\n",
    "        # 1=> generator => the generator is a neural network that creates fake data this may images text , sound it doesnt\n",
    "#                              get real data directly. instead is starts witj random noise \n",
    "                            # and its goal is the full dicriminator by generating data that looks real.\n",
    " # how does it works ?\n",
    "#  ==> input so it will take ramdom noise it will tzke 100 random numbers then for processing it passes noise \n",
    "# thorugh layers of neural network then as an output it generates a synthetic data sample\n",
    "\n",
    "# 2) discriminator => the dicriminator is neural networkd it sees both real data and fake data.and its goal is to\n",
    "#                     corrreclty classify whether the input is real is 1 and fake is 0.\n",
    "\n",
    "# how does it work => as an input it will take a data sample in either real from dataset or fake from generator. \n",
    "# then for processing it passes through neural networks layers then as an output it calculates the output \n",
    "# basedd on the prob btw o to 1.\n",
    "#  if it is closer to 0 then it is fake and it is closer to 1 then it is real.\n",
    "\n",
    "\n",
    "#  how does gan works ? \n",
    "# 1) input random noise => generator doesnt get real data at first it start with random noise vector\n",
    "# 2) generator produce fake data => it is using the noise (random samples) then the genrator outputs (z) as a fake sample.\n",
    "# 3) dicriminator judges => it sees both real data (x) anf fake data G(z) and it returns the output 1 means real,if it \n",
    "#                           thinks input is real and it return 0 means fake \n",
    "# 4) adversial training => generator wants to fool the discriminator and dicriminator wants to catch the generator lies.\n",
    "# 5) loss function => dicriminator loss (ld) = -(log d(x) + log(1-d(g(z)))) it wants real it will return 1 otherwise for \n",
    "#                    fake it will return 0\n",
    "\n",
    "# generator loss => lg = -log d(g(z)) it wants fake to be judged as real is equal to 1\n",
    "# 6) training the loop => train discriminator means make it better at catching phase \n",
    "     # => train generator => means make it better at fooling/pulling dicriminator then repeat until generator produces \n",
    "#                            realistic data \n",
    "\n",
    "# variants of gan =>\n",
    "# DC gan (deep convolutional)=. better for images \n",
    "# cycle gan => convert one type of image to another \n",
    "#  style gan => it generates ultra realistic human faces.\n",
    "\n",
    "# challenges for gan?\n",
    "\n",
    "# 1) training instability => it is hard to balance generator and discriminator \n",
    "# 2) more collapse => generator produce limited variets of output\n",
    "# 3) it needs lot of data and computer power ethical concern -> fake media or fake media.\n",
    "\n",
    "\n",
    "\n"
   ]
  },
  {
   "cell_type": "code",
   "execution_count": null,
   "id": "3c007478-56fa-47fd-9ff8-8373b2c9f664",
   "metadata": {},
   "outputs": [],
   "source": []
  }
 ],
 "metadata": {
  "kernelspec": {
   "display_name": "Python 3 (ipykernel)",
   "language": "python",
   "name": "python3"
  },
  "language_info": {
   "codemirror_mode": {
    "name": "ipython",
    "version": 3
   },
   "file_extension": ".py",
   "mimetype": "text/x-python",
   "name": "python",
   "nbconvert_exporter": "python",
   "pygments_lexer": "ipython3",
   "version": "3.12.4"
  }
 },
 "nbformat": 4,
 "nbformat_minor": 5
}
