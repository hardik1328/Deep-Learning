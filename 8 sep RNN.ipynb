{
 "cells": [
  {
   "cell_type": "code",
   "execution_count": 1,
   "id": "bb9a177b-1e97-47b7-a798-28b0b8da4415",
   "metadata": {},
   "outputs": [],
   "source": [
    "# these are  a class of neural networks that design  for sequential data.\n",
    "\n",
    "# intituion behind rnn :->\n",
    "\n",
    "# 1.  sequential nature of data :-> unlike traditional neural networks where inputs are independent at each other rnn\n",
    "#                                   handles the sequential data.\n",
    "# => ex -> in a sentence the meaning of 1 word often depends on the words that came before rnn maintain a memory of previous\n",
    "# inputs using hidden state.\n",
    "\n",
    "# -> hidden state => rnn have a loop in their architecture that allow information to be passed from one step to the next.\n",
    "# at each time step an rnn takes an input and update a hidden a state that encodes both the current input and \n",
    "#    the past input. the output of each step depend on the hidden state and the current input.\n",
    "\n",
    "# 2. recurrent  loop  -> an rnn can be visualize \n",
    "# 1 -> at time step t1:-> it takes the input x1 and passes it to a hidden layer which also recevies an initial hidden state \n",
    "# 2 -> at time step 2 -> the hidden state is updated based on the previous hidden state and the new input x2 and this \n",
    "# procces to continious for the length of the sequence.\n",
    "\n",
    "#  3. WAIT SHARING => RNN  use the same set of weights across all time steps which makes them well suited for sequential \n",
    "#  data . this share wait concept helps the rnn to generalize well on sequential task"
   ]
  },
  {
   "cell_type": "code",
   "execution_count": 3,
   "id": "85ecd42c-3bbb-41d9-b69d-65097a4f0be4",
   "metadata": {},
   "outputs": [],
   "source": [
    "#  key components :->\n",
    "#  1. input => the sequence(words in a sentence) , time steps in time series.\n",
    "#  2. hidden state => memory that caries info. from previous stage.\n",
    "#  3. output => the result is each time step."
   ]
  },
  {
   "cell_type": "code",
   "execution_count": 5,
   "id": "c8343ced-eb66-40b0-b286-37646789adb0",
   "metadata": {},
   "outputs": [],
   "source": [
    "#  there is a prblm -> cant control the memory , it losses memory, it handle by lstm\n",
    "# LSTM => long short term memory -> \n",
    "#  these are designed to overcome in major limitation of standard RNN.\n",
    "#  the prblm is vanishing gradient prblm -> this prblm makes it difficult for RNN to learn long term dependencies.\n",
    "#  in sequence coz an info. propagates to many time gradinet can become very small causing the network to \n",
    "#  forget earlier info.\n",
    "#  -> lstm intoduce special mechanism called gates that helps model to decide which info. to be remember,\n",
    "#  which to forget and which the output."
   ]
  },
  {
   "cell_type": "code",
   "execution_count": 7,
   "id": "20a6319b-c331-4f8d-bc9b-8bb13172a6de",
   "metadata": {},
   "outputs": [],
   "source": [
    "# 3 Stucture of lstm\n",
    "\n",
    "# 1. call states -> it is likely a conveyor  belt that runs through the network with only minor linear interaction.\n",
    "# 2. Gates -> \n",
    "\n",
    "#            1. forget gate => it  will decide what inf.to through away from a cell state.\n",
    "#            2. input gate => it decides what the info. will come. \n",
    "#            3. outputgate => it controls what info. from the cell state is the output at the current time step."
   ]
  },
  {
   "cell_type": "code",
   "execution_count": 9,
   "id": "04ec004e-6fd1-4e70-b827-88afb2f83ec7",
   "metadata": {},
   "outputs": [],
   "source": [
    "# 1 rnn working\n",
    "# 2 rnn prblms -> lstm , vanishing , gate(3) --> solve this \n",
    "# 3 what do you mean by rnn and how it works.\n",
    "# what are the limitation of rnn and how it is solved by lstm\n",
    "# how it is diff from ann,cnn"
   ]
  }
 ],
 "metadata": {
  "kernelspec": {
   "display_name": "Python 3 (ipykernel)",
   "language": "python",
   "name": "python3"
  },
  "language_info": {
   "codemirror_mode": {
    "name": "ipython",
    "version": 3
   },
   "file_extension": ".py",
   "mimetype": "text/x-python",
   "name": "python",
   "nbconvert_exporter": "python",
   "pygments_lexer": "ipython3",
   "version": "3.12.4"
  }
 },
 "nbformat": 4,
 "nbformat_minor": 5
}
